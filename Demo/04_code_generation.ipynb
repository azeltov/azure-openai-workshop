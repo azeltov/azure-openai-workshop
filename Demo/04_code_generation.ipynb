{
  "cells": [
    {
      "cell_type": "code",
      "source": [
        "import os\n",
        "import openai\n",
        "from dotenv import load_dotenv\n",
        "load_dotenv()\n",
        "\n",
        "openai.api_type = \"azure\"\n",
        "openai.api_base = os.getenv(\"OPENAI_API_BASE\")\n",
        "openai.api_version = \"2022-12-01\"\n",
        "openai.api_key = os.getenv(\"OPENAI_API_KEY\")\n",
        "print(openai.api_base)"
      ],
      "outputs": [
        {
          "output_type": "stream",
          "name": "stdout",
          "text": "https://openaicentral.openai.azure.com/\n\n\nSELECT d.name\nFROM Department d\nJOIN Employee e ON d.id = e.department_id\nWHERE e.start_date >= DATE_SUB(NOW(), INTERVAL 3 MONTH)\nGROUP BY d.name\nHAVING COUNT(*) >= 10\n"
        }
      ],
      "execution_count": 1,
      "metadata": {}
    },
    {
      "cell_type": "code",
      "source": [
        "from azure.identity import DefaultAzureCredential\n",
        "from azure.keyvault.secrets import SecretClient\n",
        "\n",
        "credential = DefaultAzureCredential()\n",
        "\n",
        "secret_client = SecretClient(vault_url=\"https://amldefault8324499615.vault.azure.net/\", credential=credential)\n",
        "\n",
        "import os\n",
        "import openai\n",
        "\n",
        "openai.api_type = \"azure\"\n",
        "openai.api_base = \"https://openaicentral.openai.azure.com/\"\n",
        "openai.api_version = \"2022-12-01\"\n",
        "openai.api_key = secret_client.get_secret(\"OPENAIAPIKEY\").value\n"
      ],
      "outputs": [],
      "execution_count": 1,
      "metadata": {
        "jupyter": {
          "source_hidden": false,
          "outputs_hidden": false
        },
        "nteract": {
          "transient": {
            "deleting": false
          }
        },
        "gather": {
          "logged": 1675896629025
        }
      }
    },
    {
      "cell_type": "code",
      "source": [
        "response = openai.Completion.create(\n",
        "  engine=\"text-davinci-002\",\n",
        "  prompt=\"### Postgres SQL tables, with their properties:\\n#\\n# Employee(id, name, department_id)\\n# Department(id, name, address)\\n# Salary_Payments(id, employee_id, amount, date)\\n#\\n### A query to list the names of the departments which employed more than 10 employees in the last 3 months\\n\\ query:\",\n",
        "  temperature=0,\n",
        "  max_tokens=150,\n",
        "  top_p=1,\n",
        "  frequency_penalty=0,\n",
        "  presence_penalty=0,\n",
        "  stop=[\"#\",\";\"])\n",
        "\n",
        "print(response.choices[0].text)"
      ],
      "outputs": [
        {
          "output_type": "stream",
          "name": "stdout",
          "text": "\n\nSELECT d.name\nFROM Department d\nJOIN Employee e ON d.id = e.department_id\nWHERE e.start_date >= DATE_SUB(NOW(), INTERVAL 3 MONTH)\nGROUP BY d.name\nHAVING COUNT(*) >= 10\n"
        }
      ],
      "execution_count": 2,
      "metadata": {
        "gather": {
          "logged": 1675896635263
        }
      }
    },
    {
      "cell_type": "code",
      "source": [],
      "outputs": [],
      "execution_count": null,
      "metadata": {}
    }
  ],
  "metadata": {
    "kernelspec": {
      "name": "openai-py38",
      "language": "python",
      "display_name": "openai-py38"
    },
    "language_info": {
      "name": "python",
      "version": "3.8.16",
      "mimetype": "text/x-python",
      "codemirror_mode": {
        "name": "ipython",
        "version": 3
      },
      "pygments_lexer": "ipython3",
      "nbconvert_exporter": "python",
      "file_extension": ".py"
    },
    "orig_nbformat": 4,
    "vscode": {
      "interpreter": {
        "hash": "7d42bee61d77b97c6c9facbec584f36c605647d2d52c14a5c35d3eb231af27a4"
      }
    },
    "kernel_info": {
      "name": "openai-py38"
    },
    "nteract": {
      "version": "nteract-front-end@1.0.0"
    }
  },
  "nbformat": 4,
  "nbformat_minor": 2
}