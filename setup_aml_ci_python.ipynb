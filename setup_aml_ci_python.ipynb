{
  "cells": [
    {
      "cell_type": "code",
      "source": [
        "CONDA_ENV_NAME = 'openai-py38'\n",
        "KERNEL_DISPLAY_NAME = 'openai-py38'"
      ],
      "outputs": [],
      "execution_count": 1,
      "metadata": {
        "gather": {
          "logged": 1671474745142
        }
      }
    },
    {
      "cell_type": "code",
      "source": [
        "%conda create --name {CONDA_ENV_NAME}  python=3.8 -y"
      ],
      "outputs": [
        {
          "output_type": "stream",
          "name": "stdout",
          "text": "Collecting package metadata (current_repodata.json): done\nSolving environment: done\n\n\n==> WARNING: A newer version of conda exists. <==\n  current version: 22.9.0\n  latest version: 22.11.1\n\nPlease update conda by running\n\n    $ conda update -n base -c defaults conda\n\n\n\n## Package Plan ##\n\n  environment location: /anaconda/envs/soda-automl-py38\n\n  added / updated specs:\n    - python=3.8\n\n\nThe following packages will be downloaded:\n\n    package                    |            build\n    ---------------------------|-----------------\n    certifi-2022.12.7          |   py38h06a4308_0         150 KB\n    libffi-3.4.2               |       h6a678d5_6         136 KB\n    pip-22.3.1                 |   py38h06a4308_0         2.7 MB\n    python-3.8.15              |       h7a1cb2a_2        20.1 MB\n    setuptools-65.6.3          |   py38h06a4308_0         1.1 MB\n    sqlite-3.40.1              |       h5082296_0         1.2 MB\n    xz-5.2.8                   |       h5eee18b_0         429 KB\n    ------------------------------------------------------------\n                                           Total:        25.8 MB\n\nThe following NEW packages will be INSTALLED:\n\n  _libgcc_mutex      pkgs/main/linux-64::_libgcc_mutex-0.1-main None\n  _openmp_mutex      pkgs/main/linux-64::_openmp_mutex-5.1-1_gnu None\n  ca-certificates    pkgs/main/linux-64::ca-certificates-2022.10.11-h06a4308_0 None\n  certifi            pkgs/main/linux-64::certifi-2022.12.7-py38h06a4308_0 None\n  ld_impl_linux-64   pkgs/main/linux-64::ld_impl_linux-64-2.38-h1181459_1 None\n  libffi             pkgs/main/linux-64::libffi-3.4.2-h6a678d5_6 None\n  libgcc-ng          pkgs/main/linux-64::libgcc-ng-11.2.0-h1234567_1 None\n  libgomp            pkgs/main/linux-64::libgomp-11.2.0-h1234567_1 None\n  libstdcxx-ng       pkgs/main/linux-64::libstdcxx-ng-11.2.0-h1234567_1 None\n  ncurses            pkgs/main/linux-64::ncurses-6.3-h5eee18b_3 None\n  openssl            pkgs/main/linux-64::openssl-1.1.1s-h7f8727e_0 None\n  pip                pkgs/main/linux-64::pip-22.3.1-py38h06a4308_0 None\n  python             pkgs/main/linux-64::python-3.8.15-h7a1cb2a_2 None\n  readline           pkgs/main/linux-64::readline-8.2-h5eee18b_0 None\n  setuptools         pkgs/main/linux-64::setuptools-65.6.3-py38h06a4308_0 None\n  sqlite             pkgs/main/linux-64::sqlite-3.40.1-h5082296_0 None\n  tk                 pkgs/main/linux-64::tk-8.6.12-h1ccaba5_0 None\n  wheel              pkgs/main/noarch::wheel-0.37.1-pyhd3eb1b0_0 None\n  xz                 pkgs/main/linux-64::xz-5.2.8-h5eee18b_0 None\n  zlib               pkgs/main/linux-64::zlib-1.2.13-h5eee18b_0 None\n\n\n\nDownloading and Extracting Packages\ncertifi-2022.12.7    | 150 KB    | ##################################### | 100% \npython-3.8.15        | 20.1 MB   | ##################################### | 100% \nsqlite-3.40.1        | 1.2 MB    | ##################################### | 100% \npip-22.3.1           | 2.7 MB    | ##################################### | 100% \nxz-5.2.8             | 429 KB    | ##################################### | 100% \nsetuptools-65.6.3    | 1.1 MB    | ##################################### | 100% \nlibffi-3.4.2         | 136 KB    | ##################################### | 100% \nPreparing transaction: done\nVerifying transaction: done\nExecuting transaction: done\n#\n# To activate this environment, use\n#\n#     $ conda activate soda-automl-py38\n#\n# To deactivate an active environment, use\n#\n#     $ conda deactivate\n\nRetrieving notices: ...working... done\n\nNote: you may need to restart the kernel to use updated packages.\n"
        }
      ],
      "execution_count": 2,
      "metadata": {}
    },
    {
      "cell_type": "code",
      "source": [
        "%conda install -n {CONDA_ENV_NAME} ipykernel -y"
      ],
      "outputs": [
        {
          "output_type": "stream",
          "name": "stdout",
          "text": "Collecting package metadata (current_repodata.json): done\nSolving environment: done\n\n\n==> WARNING: A newer version of conda exists. <==\n  current version: 22.9.0\n  latest version: 22.11.1\n\nPlease update conda by running\n\n    $ conda update -n base -c defaults conda\n\n\n\n## Package Plan ##\n\n  environment location: /anaconda/envs/soda-automl-py38\n\n  added / updated specs:\n    - ipykernel\n\n\nThe following packages will be downloaded:\n\n    package                    |            build\n    ---------------------------|-----------------\n    asttokens-2.0.5            |     pyhd3eb1b0_0          20 KB\n    backcall-0.2.0             |     pyhd3eb1b0_0          13 KB\n    comm-0.1.2                 |   py38h06a4308_0          13 KB\n    debugpy-1.5.1              |   py38h295c915_0         1.7 MB\n    decorator-5.1.1            |     pyhd3eb1b0_0          12 KB\n    entrypoints-0.4            |   py38h06a4308_0          16 KB\n    executing-0.8.3            |     pyhd3eb1b0_0          18 KB\n    ipykernel-6.19.2           |   py38hb070fc8_0         218 KB\n    ipython-8.7.0              |   py38h06a4308_0         1.0 MB\n    jedi-0.18.1                |   py38h06a4308_1         982 KB\n    jupyter_client-7.4.8       |   py38h06a4308_0         205 KB\n    jupyter_core-5.1.1         |   py38h06a4308_0          89 KB\n    libsodium-1.0.18           |       h7b6447c_0         244 KB\n    matplotlib-inline-0.1.6    |   py38h06a4308_0          16 KB\n    nest-asyncio-1.5.6         |   py38h06a4308_0          14 KB\n    packaging-22.0             |   py38h06a4308_0          68 KB\n    parso-0.8.3                |     pyhd3eb1b0_0          70 KB\n    pexpect-4.8.0              |     pyhd3eb1b0_3          53 KB\n    pickleshare-0.7.5          |  pyhd3eb1b0_1003          13 KB\n    platformdirs-2.5.2         |   py38h06a4308_0          23 KB\n    prompt-toolkit-3.0.36      |   py38h06a4308_0         574 KB\n    psutil-5.9.0               |   py38h5eee18b_0         330 KB\n    ptyprocess-0.7.0           |     pyhd3eb1b0_2          17 KB\n    pure_eval-0.2.2            |     pyhd3eb1b0_0          14 KB\n    pygments-2.11.2            |     pyhd3eb1b0_0         759 KB\n    python-dateutil-2.8.2      |     pyhd3eb1b0_0         233 KB\n    pyzmq-23.2.0               |   py38h6a678d5_0         448 KB\n    six-1.16.0                 |     pyhd3eb1b0_1          18 KB\n    stack_data-0.2.0           |     pyhd3eb1b0_0          22 KB\n    tornado-6.2                |   py38h5eee18b_0         590 KB\n    traitlets-5.7.1            |   py38h06a4308_0         200 KB\n    wcwidth-0.2.5              |     pyhd3eb1b0_0          26 KB\n    zeromq-4.3.4               |       h2531618_0         331 KB\n    ------------------------------------------------------------\n                                           Total:         8.3 MB\n\nThe following NEW packages will be INSTALLED:\n\n  asttokens          pkgs/main/noarch::asttokens-2.0.5-pyhd3eb1b0_0 None\n  backcall           pkgs/main/noarch::backcall-0.2.0-pyhd3eb1b0_0 None\n  comm               pkgs/main/linux-64::comm-0.1.2-py38h06a4308_0 None\n  debugpy            pkgs/main/linux-64::debugpy-1.5.1-py38h295c915_0 None\n  decorator          pkgs/main/noarch::decorator-5.1.1-pyhd3eb1b0_0 None\n  entrypoints        pkgs/main/linux-64::entrypoints-0.4-py38h06a4308_0 None\n  executing          pkgs/main/noarch::executing-0.8.3-pyhd3eb1b0_0 None\n  ipykernel          pkgs/main/linux-64::ipykernel-6.19.2-py38hb070fc8_0 None\n  ipython            pkgs/main/linux-64::ipython-8.7.0-py38h06a4308_0 None\n  jedi               pkgs/main/linux-64::jedi-0.18.1-py38h06a4308_1 None\n  jupyter_client     pkgs/main/linux-64::jupyter_client-7.4.8-py38h06a4308_0 None\n  jupyter_core       pkgs/main/linux-64::jupyter_core-5.1.1-py38h06a4308_0 None\n  libsodium          pkgs/main/linux-64::libsodium-1.0.18-h7b6447c_0 None\n  matplotlib-inline  pkgs/main/linux-64::matplotlib-inline-0.1.6-py38h06a4308_0 None\n  nest-asyncio       pkgs/main/linux-64::nest-asyncio-1.5.6-py38h06a4308_0 None\n  packaging          pkgs/main/linux-64::packaging-22.0-py38h06a4308_0 None\n  parso              pkgs/main/noarch::parso-0.8.3-pyhd3eb1b0_0 None\n  pexpect            pkgs/main/noarch::pexpect-4.8.0-pyhd3eb1b0_3 None\n  pickleshare        pkgs/main/noarch::pickleshare-0.7.5-pyhd3eb1b0_1003 None\n  platformdirs       pkgs/main/linux-64::platformdirs-2.5.2-py38h06a4308_0 None\n  prompt-toolkit     pkgs/main/linux-64::prompt-toolkit-3.0.36-py38h06a4308_0 None\n  psutil             pkgs/main/linux-64::psutil-5.9.0-py38h5eee18b_0 None\n  ptyprocess         pkgs/main/noarch::ptyprocess-0.7.0-pyhd3eb1b0_2 None\n  pure_eval          pkgs/main/noarch::pure_eval-0.2.2-pyhd3eb1b0_0 None\n  pygments           pkgs/main/noarch::pygments-2.11.2-pyhd3eb1b0_0 None\n  python-dateutil    pkgs/main/noarch::python-dateutil-2.8.2-pyhd3eb1b0_0 None\n  pyzmq              pkgs/main/linux-64::pyzmq-23.2.0-py38h6a678d5_0 None\n  six                pkgs/main/noarch::six-1.16.0-pyhd3eb1b0_1 None\n  stack_data         pkgs/main/noarch::stack_data-0.2.0-pyhd3eb1b0_0 None\n  tornado            pkgs/main/linux-64::tornado-6.2-py38h5eee18b_0 None\n  traitlets          pkgs/main/linux-64::traitlets-5.7.1-py38h06a4308_0 None\n  wcwidth            pkgs/main/noarch::wcwidth-0.2.5-pyhd3eb1b0_0 None\n  zeromq             pkgs/main/linux-64::zeromq-4.3.4-h2531618_0 None\n\n\n\nDownloading and Extracting Packages\ncomm-0.1.2           | 13 KB     | ##################################### | 100% \nipykernel-6.19.2     | 218 KB    | ##################################### | 100% \nmatplotlib-inline-0. | 16 KB     | ##################################### | 100% \nparso-0.8.3          | 70 KB     | ##################################### | 100% \npython-dateutil-2.8. | 233 KB    | ##################################### | 100% \npexpect-4.8.0        | 53 KB     | ##################################### | 100% \nnest-asyncio-1.5.6   | 14 KB     | ##################################### | 100% \nplatformdirs-2.5.2   | 23 KB     | ##################################### | 100% \nptyprocess-0.7.0     | 17 KB     | ##################################### | 100% \nipython-8.7.0        | 1.0 MB    | ##################################### | 100% \ndecorator-5.1.1      | 12 KB     | ##################################### | 100% \npackaging-22.0       | 68 KB     | ##################################### | 100% \njupyter_client-7.4.8 | 205 KB    | ##################################### | 100% \nasttokens-2.0.5      | 20 KB     | ##################################### | 100% \nsix-1.16.0           | 18 KB     | ##################################### | 100% \nbackcall-0.2.0       | 13 KB     | ##################################### | 100% \nlibsodium-1.0.18     | 244 KB    | ##################################### | 100% \npickleshare-0.7.5    | 13 KB     | ##################################### | 100% \nentrypoints-0.4      | 16 KB     | ##################################### | 100% \nstack_data-0.2.0     | 22 KB     | ##################################### | 100% \nexecuting-0.8.3      | 18 KB     | ##################################### | 100% \ntornado-6.2          | 590 KB    | ##################################### | 100% \nwcwidth-0.2.5        | 26 KB     | ##################################### | 100% \npyzmq-23.2.0         | 448 KB    | ##################################### | 100% \ndebugpy-1.5.1        | 1.7 MB    | ##################################### | 100% \njupyter_core-5.1.1   | 89 KB     | ##################################### | 100% \nzeromq-4.3.4         | 331 KB    | ##################################### | 100% \npure_eval-0.2.2      | 14 KB     | ##################################### | 100% \ntraitlets-5.7.1      | 200 KB    | ##################################### | 100% \nprompt-toolkit-3.0.3 | 574 KB    | ##################################### | 100% \njedi-0.18.1          | 982 KB    | ##################################### | 100% \npsutil-5.9.0         | 330 KB    | ##################################### | 100% \npygments-2.11.2      | 759 KB    | ##################################### | 100% \nPreparing transaction: done\nVerifying transaction: done\nExecuting transaction: done\nRetrieving notices: ...working... done\n\nNote: you may need to restart the kernel to use updated packages.\n"
        }
      ],
      "execution_count": 3,
      "metadata": {}
    },
    {
      "cell_type": "code",
      "source": [
        "!/anaconda/envs/{CONDA_ENV_NAME}/bin/python -m ipykernel install --user --name {CONDA_ENV_NAME} --display-name \"{KERNEL_DISPLAY_NAME}\""
      ],
      "outputs": [
        {
          "output_type": "stream",
          "name": "stdout",
          "text": "Installed kernelspec soda-automl-py38 in /home/azureuser/.local/share/jupyter/kernels/soda-automl-py38\n"
        }
      ],
      "execution_count": 4,
      "metadata": {}
    },
    {
      "cell_type": "code",
      "source": [],
      "outputs": [],
      "execution_count": null,
      "metadata": {}
    }
  ],
  "metadata": {
    "kernel_info": {
      "name": "python3"
    },
    "kernelspec": {
      "display_name": "Python 3 (ipykernel)",
      "language": "python",
      "name": "python3"
    },
    "language_info": {
      "codemirror_mode": {
        "name": "ipython",
        "version": 3
      },
      "file_extension": ".py",
      "mimetype": "text/x-python",
      "name": "python",
      "nbconvert_exporter": "python",
      "pygments_lexer": "ipython3",
      "version": "3.8.5"
    },
    "nteract": {
      "version": "nteract-front-end@1.0.0"
    }
  },
  "nbformat": 4,
  "nbformat_minor": 4
}